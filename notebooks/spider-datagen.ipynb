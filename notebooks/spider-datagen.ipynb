{
 "cells": [
  {
   "cell_type": "markdown",
   "metadata": {},
   "source": [
    "# Spider Datagen"
   ]
  },
  {
   "cell_type": "markdown",
   "metadata": {},
   "source": [
    "Create Spark SQL eventlogs from the [Spider Text-to-SQL](https://yale-lily.github.io/spider) dataset, which contains pairs of natural language queries and SQL equivalents.  The dataset also includes [sqlite databases](https://drive.google.com/u/0/uc?id=1iRDVHLr4mX2wQKSgA9J8Pire73Jahh0m&export=download) used to evaluate the SQL queries."
   ]
  },
  {
   "cell_type": "markdown",
   "metadata": {},
   "source": [
    "### Using sqlite3\n",
    "\n",
    "Example of using sqlite3 python API to access one of the Spider databases."
   ]
  },
  {
   "cell_type": "code",
   "execution_count": null,
   "metadata": {
    "tags": []
   },
   "outputs": [],
   "source": [
    "import sqlite3"
   ]
  },
  {
   "cell_type": "code",
   "execution_count": null,
   "metadata": {
    "tags": []
   },
   "outputs": [],
   "source": [
    "database = '/home/leey/devpub/spider/spider/database/college_1/college_1.sqlite'"
   ]
  },
  {
   "cell_type": "code",
   "execution_count": null,
   "metadata": {
    "tags": []
   },
   "outputs": [],
   "source": [
    "con = sqlite3.connect(database)\n",
    "cur = con.cursor()"
   ]
  },
  {
   "cell_type": "code",
   "execution_count": null,
   "metadata": {
    "tags": []
   },
   "outputs": [],
   "source": [
    "# Example query from dataset\n",
    "res = cur.execute(\"\"\"\n",
    "SELECT T1.stu_fname \n",
    "FROM student AS T1 \n",
    "JOIN enroll AS T2 ON T1.stu_num  =  T2.stu_num \n",
    "JOIN CLASS AS T3 ON T2.class_code  =  T3.class_code \n",
    "JOIN course AS T4 ON T3.crs_code  =  T4.crs_code \n",
    "JOIN department AS T5 ON T5.dept_code  =  T4.dept_code \n",
    "WHERE T5.dept_name  =  'Accounting' \n",
    "INTERSECT \n",
    "SELECT T1.stu_fname FROM student AS T1 \n",
    "JOIN enroll AS T2 ON T1.stu_num  =  T2.stu_num \n",
    "JOIN CLASS AS T3 ON T2.class_code  =  T3.class_code \n",
    "JOIN course AS T4 ON T3.crs_code  =  T4.crs_code \n",
    "JOIN department AS T5 ON T5.dept_code  =  T4.dept_code \n",
    "WHERE T5.dept_name  =  'Computer Info. Systems'\n",
    "\"\"\")"
   ]
  },
  {
   "cell_type": "code",
   "execution_count": null,
   "metadata": {
    "tags": []
   },
   "outputs": [],
   "source": [
    "res.fetchall()"
   ]
  },
  {
   "cell_type": "markdown",
   "metadata": {},
   "source": [
    "### Importing sqlite DB into pyspark\n",
    "Per https://spark.apache.org/docs/latest/api/python/user_guide/pandas_on_spark/from_to_dbms.html"
   ]
  },
  {
   "cell_type": "code",
   "execution_count": null,
   "metadata": {
    "tags": []
   },
   "outputs": [],
   "source": [
    "import pandas as pd\n",
    "import pyspark.pandas as ps\n",
    "import pyspark.sql.functions as F\n",
    "import sqlite3\n",
    "\n",
    "from pyspark.sql.types import StructType, StructField, IntegerType, LongType, StringType"
   ]
  },
  {
   "cell_type": "code",
   "execution_count": null,
   "metadata": {
    "tags": []
   },
   "outputs": [],
   "source": [
    "database = '/home/leey/devpub/spider/spider/database/college_1/college_1.sqlite'"
   ]
  },
  {
   "cell_type": "code",
   "execution_count": null,
   "metadata": {
    "tags": []
   },
   "outputs": [],
   "source": [
    "con = sqlite3.connect(database)\n",
    "cur = con.cursor()"
   ]
  },
  {
   "cell_type": "code",
   "execution_count": null,
   "metadata": {
    "tags": []
   },
   "outputs": [],
   "source": [
    "res = cur.execute(\"SELECT name FROM sqlite_master WHERE type='table';\")\n",
    "tables = res.fetchall()\n",
    "tables = [x[0] for x in tables]\n",
    "tables"
   ]
  },
  {
   "cell_type": "code",
   "execution_count": null,
   "metadata": {
    "tags": []
   },
   "outputs": [],
   "source": [
    "# Load each table into spark\n",
    "for table in tables:\n",
    "    print(table)\n",
    "    df = spark.read.format('jdbc') \\\n",
    "        .options(driver='org.sqlite.JDBC', dbtable=table, \\\n",
    "                 url='jdbc:sqlite:/home/leey/devpub/spider/spider/database/college_1/college_1.sqlite') \\\n",
    "        .option(\"customSchema\", \"STU_DOB STRING, EMP_HIREDATE STRING, EMP_DOB STRING\") \\\n",
    "        .load()\n",
    "    df.show()\n",
    "    df.createOrReplaceTempView(table)"
   ]
  },
  {
   "cell_type": "markdown",
   "metadata": {},
   "source": [
    "### Running Spider queries in Spark SQL"
   ]
  },
  {
   "cell_type": "raw",
   "metadata": {
    "tags": []
   },
   "source": [
    "# use Huggingface dataset for spider\n",
    "!pip install datasets"
   ]
  },
  {
   "cell_type": "code",
   "execution_count": null,
   "metadata": {
    "tags": []
   },
   "outputs": [],
   "source": [
    "from datasets import load_dataset\n",
    "\n",
    "dataset_name = \"xlangai/spider\"\n",
    "dataset = load_dataset(dataset_name, split=\"train\")\n",
    "df = pd.DataFrame(dataset)\n",
    "df"
   ]
  },
  {
   "cell_type": "code",
   "execution_count": null,
   "metadata": {
    "tags": []
   },
   "outputs": [],
   "source": [
    "queries = list(df['query'].loc[df['db_id'] == 'college_1'])"
   ]
  },
  {
   "cell_type": "code",
   "execution_count": null,
   "metadata": {
    "scrolled": true,
    "tags": []
   },
   "outputs": [],
   "source": [
    "%%time\n",
    "# run all queries for the 'college_1' database\n",
    "for i, q in enumerate(queries):\n",
    "    try:\n",
    "        print(f\"{i}: {q}\")\n",
    "        res = spark.sql(q)\n",
    "        res.show()\n",
    "    except Exception as e:\n",
    "        print(e)"
   ]
  },
  {
   "cell_type": "markdown",
   "metadata": {},
   "source": [
    "### Generate datagen.py\n",
    "\n",
    "Use the [Databricks Labs Data Generator](https://github.com/databrickslabs/dbldatagen) to increase the size of the dataset.\n",
    "\n",
    "Note that the generator prints out pyspark/python code, so we write the output as a file to execute via Spark per instructions below."
   ]
  },
  {
   "cell_type": "code",
   "execution_count": null,
   "metadata": {
    "tags": []
   },
   "outputs": [],
   "source": [
    "import dbldatagen as dg"
   ]
  },
  {
   "cell_type": "code",
   "execution_count": null,
   "metadata": {
    "scrolled": true,
    "tags": []
   },
   "outputs": [],
   "source": [
    "with open(\"datagen.py\", \"w\") as f:\n",
    "    f.write(\n",
    "\"\"\"\n",
    "import os\n",
    "from pyspark.sql import SparkSession\n",
    "\n",
    "spark = (\n",
    "    SparkSession.builder\n",
    "    .appName(\"spider-datagen\")\n",
    "    .config(\"spark.jars\", \"/home/leey/devpub/spider/sqlite-jdbc-3.45.2.0.jar\")\n",
    "    .config(\"spark.driver.extraClassPath\", \"/home/leey/devpub/spider/sqlite-jdbc-3.45.2.0.jar\")\n",
    "    .getOrCreate()\n",
    ")\n",
    "\n",
    "\"\"\"\n",
    "    )\n",
    "    for table in tables:\n",
    "        df = spark.table(table)\n",
    "        # df.show()\n",
    "        analyzer = dg.DataAnalyzer(sparkSession=spark, df=df)\n",
    "        generatedCode = analyzer.scriptDataGeneratorFromData()\n",
    "        f.write(f\"# {table}\\n\")\n",
    "        f.writelines(generatedCode)\n",
    "        f.write(\"\\n\")\n",
    "        f.write(\"df_synthetic = generation_spec.build()\\n\")\n",
    "        f.write(f\"df_synthetic.write.mode('overwrite').parquet('{table}.parquet')\\n\")\n",
    "        f.write(\"\\n\")"
   ]
  },
  {
   "cell_type": "markdown",
   "metadata": {},
   "source": [
    "### Run datagen.py on command line\n",
    "\n",
    "```bash\n",
    "spark-submit --master $MASTER datagen.py\n",
    "```"
   ]
  },
  {
   "cell_type": "markdown",
   "metadata": {},
   "source": [
    "### Merge synthetic w/ \"real\" data\n",
    "\n",
    "The synthetic data does not contain any values included in the Spider SQL queries, e.g. `WHERE T5.dept_name  =  'Computer Info. Systems'`, so we need to merge the synthetic data with the original data in order to satisfy the SQL queries."
   ]
  },
  {
   "cell_type": "code",
   "execution_count": null,
   "metadata": {
    "tags": []
   },
   "outputs": [],
   "source": [
    "for table in tables:\n",
    "    df = spark.table(table)\n",
    "    synthetic_df = spark.read.parquet(f\"{table}.parquet\")\n",
    "    merged_df = synthetic_df.union(df)\n",
    "    # merged_df.cache()\n",
    "    merged_df.createOrReplaceTempView(table)\n",
    "    merged_df.write.mode(\"overwrite\").parquet(f\"syn_{table}.parquet\")\n",
    "    print(merged_df.count())"
   ]
  },
  {
   "cell_type": "markdown",
   "metadata": {},
   "source": [
    "### Re-running Spider queries in Spark SQL\n",
    "\n",
    "Now, we can run the Spider SQL queries against the scaled up database (excluding certain slow queries for now)."
   ]
  },
  {
   "cell_type": "code",
   "execution_count": null,
   "metadata": {
    "tags": []
   },
   "outputs": [],
   "source": [
    "from datetime import datetime"
   ]
  },
  {
   "cell_type": "code",
   "execution_count": null,
   "metadata": {
    "scrolled": true,
    "tags": []
   },
   "outputs": [],
   "source": [
    "%%time\n",
    "slow_queries = [34, 35, 78, 79, 120, 121, 122, 127, 140, 141, 142, 143, 144, 145, 148, 149, 150, 151]\n",
    "for i, q in enumerate(queries):\n",
    "    if i not in slow_queries:\n",
    "        continue\n",
    "    try:\n",
    "        print(f\"{datetime.utcnow()}: {i}: {q}\")\n",
    "        res = spark.sql(q)\n",
    "        res.show()\n",
    "    except Exception as e:\n",
    "        print(e)"
   ]
  },
  {
   "cell_type": "code",
   "execution_count": null,
   "metadata": {},
   "outputs": [],
   "source": [
    "q = \"\"\"\n",
    "SELECT count(*) FROM CLASS AS T1\n",
    "JOIN enroll AS T2 ON T1.class_code  =  T2.class_code\n",
    "JOIN course AS T3 ON T1.crs_code  =  T3.crs_code\n",
    "JOIN department AS T4 ON T3.dept_code  =  T4.dept_code\n",
    "WHERE T4.dept_name  =  'Accounting'\n",
    "\"\"\".strip()"
   ]
  },
  {
   "cell_type": "code",
   "execution_count": null,
   "metadata": {
    "tags": []
   },
   "outputs": [],
   "source": [
    "%%time\n",
    "res = spark.sql(q)\n",
    "res.show()"
   ]
  },
  {
   "cell_type": "markdown",
   "metadata": {},
   "source": [
    "### Scratch"
   ]
  },
  {
   "cell_type": "code",
   "execution_count": 1,
   "metadata": {
    "tags": []
   },
   "outputs": [
    {
     "name": "stdout",
     "output_type": "stream",
     "text": [
      "['CLASS', 'COURSE', 'DEPARTMENT', 'EMPLOYEE', 'ENROLL', 'PROFESSOR', 'STUDENT']\n"
     ]
    },
    {
     "name": "stderr",
     "output_type": "stream",
     "text": [
      "                                                                                \r"
     ]
    },
    {
     "name": "stdout",
     "output_type": "stream",
     "text": [
      "10013\n",
      "10006\n",
      "10011\n",
      "10037\n",
      "10006\n",
      "10022\n",
      "10008\n",
      "2024-04-18 00:22:35.809490: 34: SELECT count(*) ,  T3.school_code FROM CLASS AS T1 JOIN course AS T2 ON T1.crs_code  =  T2.crs_code JOIN department AS T3 ON T2.dept_code  =  T3.dept_code GROUP BY T3.school_code\n"
     ]
    },
    {
     "name": "stderr",
     "output_type": "stream",
     "text": [
      "                                                                                \r"
     ]
    },
    {
     "name": "stdout",
     "output_type": "stream",
     "text": [
      "+--------+-----------+\n",
      "|count(1)|school_code|\n",
      "+--------+-----------+\n",
      "| 6498144|     veniam|\n",
      "| 3856320|     cillum|\n",
      "| 2477088|      velit|\n",
      "| 6067680|      lorem|\n",
      "| 4480416|    laborum|\n",
      "| 4726368|     fugiat|\n",
      "| 4849344|        non|\n",
      "| 5036544|    eiusmod|\n",
      "| 7556928|         ex|\n",
      "| 6709632|    nostrud|\n",
      "| 2791584|        sit|\n",
      "| 5156352|    laboris|\n",
      "| 8028192|consectetur|\n",
      "| 4533696|     aliqua|\n",
      "| 2206656|   occaecat|\n",
      "|12364416|         in|\n",
      "| 6493536|       aute|\n",
      "| 4709088|       enim|\n",
      "| 6356096|    commodo|\n",
      "| 4865568|       sunt|\n",
      "+--------+-----------+\n",
      "only showing top 20 rows\n",
      "\n",
      "2024-04-18 00:22:42.254997: 35: SELECT count(*) ,  T3.school_code FROM CLASS AS T1 JOIN course AS T2 ON T1.crs_code  =  T2.crs_code JOIN department AS T3 ON T2.dept_code  =  T3.dept_code GROUP BY T3.school_code\n"
     ]
    },
    {
     "name": "stderr",
     "output_type": "stream",
     "text": [
      "                                                                                \r"
     ]
    },
    {
     "name": "stdout",
     "output_type": "stream",
     "text": [
      "+--------+-----------+\n",
      "|count(1)|school_code|\n",
      "+--------+-----------+\n",
      "| 6498144|     veniam|\n",
      "| 3856320|     cillum|\n",
      "| 2477088|      velit|\n",
      "| 6067680|      lorem|\n",
      "| 4480416|    laborum|\n",
      "| 4726368|     fugiat|\n",
      "| 4849344|        non|\n",
      "| 5036544|    eiusmod|\n",
      "| 7556928|         ex|\n",
      "| 6709632|    nostrud|\n",
      "| 2791584|        sit|\n",
      "| 5156352|    laboris|\n",
      "| 8028192|consectetur|\n",
      "| 4533696|     aliqua|\n",
      "| 2206656|   occaecat|\n",
      "|12364416|         in|\n",
      "| 6493536|       aute|\n",
      "| 4709088|       enim|\n",
      "| 6356096|    commodo|\n",
      "| 4865568|       sunt|\n",
      "+--------+-----------+\n",
      "only showing top 20 rows\n",
      "\n",
      "2024-04-18 00:22:46.368742: 78: SELECT count(*) FROM CLASS AS T1 JOIN enroll AS T2 ON T1.class_code  =  T2.class_code JOIN course AS T3 ON T1.crs_code  =  T3.crs_code JOIN department AS T4 ON T3.dept_code  =  T4.dept_code WHERE T4.dept_name  =  'Accounting'\n"
     ]
    },
    {
     "name": "stderr",
     "output_type": "stream",
     "text": [
      "                                                                                \r"
     ]
    },
    {
     "name": "stdout",
     "output_type": "stream",
     "text": [
      "+--------+\n",
      "|count(1)|\n",
      "+--------+\n",
      "|       2|\n",
      "+--------+\n",
      "\n",
      "2024-04-18 00:22:58.690247: 79: SELECT count(*) FROM CLASS AS T1 JOIN enroll AS T2 ON T1.class_code  =  T2.class_code JOIN course AS T3 ON T1.crs_code  =  T3.crs_code JOIN department AS T4 ON T3.dept_code  =  T4.dept_code WHERE T4.dept_name  =  'Accounting'\n"
     ]
    },
    {
     "name": "stderr",
     "output_type": "stream",
     "text": [
      "                                                                                \r"
     ]
    },
    {
     "name": "stdout",
     "output_type": "stream",
     "text": [
      "+--------+\n",
      "|count(1)|\n",
      "+--------+\n",
      "|       2|\n",
      "+--------+\n",
      "\n",
      "2024-04-18 00:23:11.955690: 120: SELECT T1.stu_fname FROM student AS T1 JOIN enroll AS T2 ON T1.stu_num  =  T2.stu_num JOIN CLASS AS T3 ON T2.class_code  =  T3.class_code JOIN course AS T4 ON T3.crs_code  =  T4.crs_code JOIN department AS T5 ON T5.dept_code  =  T4.dept_code WHERE T5.dept_name  =  'Accounting' INTERSECT SELECT T1.stu_fname FROM student AS T1 JOIN enroll AS T2 ON T1.stu_num  =  T2.stu_num JOIN CLASS AS T3 ON T2.class_code  =  T3.class_code JOIN course AS T4 ON T3.crs_code  =  T4.crs_code JOIN department AS T5 ON T5.dept_code  =  T4.dept_code WHERE T5.dept_name  =  'Computer Info. Systems'\n"
     ]
    },
    {
     "name": "stderr",
     "output_type": "stream",
     "text": [
      "                                                                                \r"
     ]
    },
    {
     "name": "stdout",
     "output_type": "stream",
     "text": [
      "+---------+\n",
      "|stu_fname|\n",
      "+---------+\n",
      "|   aliqua|\n",
      "|     sunt|\n",
      "|     Anne|\n",
      "|       ad|\n",
      "|  William|\n",
      "+---------+\n",
      "\n",
      "2024-04-18 00:24:07.832312: 121: SELECT T1.stu_fname FROM student AS T1 JOIN enroll AS T2 ON T1.stu_num  =  T2.stu_num JOIN CLASS AS T3 ON T2.class_code  =  T3.class_code JOIN course AS T4 ON T3.crs_code  =  T4.crs_code JOIN department AS T5 ON T5.dept_code  =  T4.dept_code WHERE T5.dept_name  =  'Accounting' INTERSECT SELECT T1.stu_fname FROM student AS T1 JOIN enroll AS T2 ON T1.stu_num  =  T2.stu_num JOIN CLASS AS T3 ON T2.class_code  =  T3.class_code JOIN course AS T4 ON T3.crs_code  =  T4.crs_code JOIN department AS T5 ON T5.dept_code  =  T4.dept_code WHERE T5.dept_name  =  'Computer Info. Systems'\n"
     ]
    },
    {
     "name": "stderr",
     "output_type": "stream",
     "text": [
      "                                                                                \r"
     ]
    },
    {
     "name": "stdout",
     "output_type": "stream",
     "text": [
      "+---------+\n",
      "|stu_fname|\n",
      "+---------+\n",
      "|   aliqua|\n",
      "|     sunt|\n",
      "|     Anne|\n",
      "|       ad|\n",
      "|  William|\n",
      "+---------+\n",
      "\n",
      "2024-04-18 00:25:06.429179: 122: SELECT avg(T2.stu_gpa) FROM enroll AS T1 JOIN student AS T2 ON T1.stu_num  =  T2.stu_num JOIN CLASS AS T3 ON T1.class_code  =  T3.class_code WHERE T3.crs_code  =  'ACCT-211'\n",
      "+----------------+\n",
      "|    avg(stu_gpa)|\n",
      "+----------------+\n",
      "|2.90799994468689|\n",
      "+----------------+\n",
      "\n",
      "2024-04-18 00:25:06.684126: 127: SELECT T2.dept_name FROM student AS T1 JOIN department AS T2 ON T1.dept_code  =  T2.dept_code ORDER BY stu_gpa LIMIT 1\n",
      "+---------+\n",
      "|dept_name|\n",
      "+---------+\n",
      "|     enim|\n",
      "+---------+\n",
      "\n",
      "2024-04-18 00:25:07.166831: 140: SELECT T2.emp_fname ,  T4.prof_office ,  T3.crs_description FROM CLASS AS T1 JOIN employee AS T2 ON T1.prof_num  =  T2.emp_num JOIN course AS T3 ON T1.crs_code  =  T3.crs_code JOIN professor AS T4 ON T2.emp_num  =  T4.emp_num\n",
      "+---------+-------------+---------------+\n",
      "|emp_fname|  prof_office|crs_description|\n",
      "+---------+-------------+---------------+\n",
      "|   veniam|           ex|        officia|\n",
      "|   veniam|      ullamco|        officia|\n",
      "|   veniam|        irure|        officia|\n",
      "|   veniam|           et|        officia|\n",
      "|   veniam|           ad|        officia|\n",
      "|   veniam|           ad|        officia|\n",
      "|   veniam|     pariatur|        officia|\n",
      "|   veniam|    voluptate|        officia|\n",
      "|   veniam|reprehenderit|        officia|\n",
      "|   veniam|      nostrud|        officia|\n",
      "|   veniam|       tempor|        officia|\n",
      "|   veniam|       tempor|        officia|\n",
      "|   veniam|          non|        officia|\n",
      "|   veniam|      laborum|        officia|\n",
      "|   veniam|        ipsum|        officia|\n",
      "|   veniam|       dolore|        officia|\n",
      "|   veniam|        nulla|        officia|\n",
      "|   veniam|       mollit|        officia|\n",
      "|   veniam|      officia|        officia|\n",
      "|   veniam|         enim|        officia|\n",
      "+---------+-------------+---------------+\n",
      "only showing top 20 rows\n",
      "\n",
      "2024-04-18 00:25:07.443659: 141: SELECT T2.emp_fname ,  T4.prof_office ,  T3.crs_description FROM CLASS AS T1 JOIN employee AS T2 ON T1.prof_num  =  T2.emp_num JOIN course AS T3 ON T1.crs_code  =  T3.crs_code JOIN professor AS T4 ON T2.emp_num  =  T4.emp_num\n",
      "+---------+-------------+---------------+\n",
      "|emp_fname|  prof_office|crs_description|\n",
      "+---------+-------------+---------------+\n",
      "|   veniam|           ex|        officia|\n",
      "|   veniam|      ullamco|        officia|\n",
      "|   veniam|        irure|        officia|\n",
      "|   veniam|           et|        officia|\n",
      "|   veniam|           ad|        officia|\n",
      "|   veniam|           ad|        officia|\n",
      "|   veniam|     pariatur|        officia|\n",
      "|   veniam|    voluptate|        officia|\n",
      "|   veniam|reprehenderit|        officia|\n",
      "|   veniam|      nostrud|        officia|\n",
      "|   veniam|       tempor|        officia|\n",
      "|   veniam|       tempor|        officia|\n",
      "|   veniam|          non|        officia|\n",
      "|   veniam|      laborum|        officia|\n",
      "|   veniam|        ipsum|        officia|\n",
      "|   veniam|       dolore|        officia|\n",
      "|   veniam|        nulla|        officia|\n",
      "|   veniam|       mollit|        officia|\n",
      "|   veniam|      officia|        officia|\n",
      "|   veniam|         enim|        officia|\n",
      "+---------+-------------+---------------+\n",
      "only showing top 20 rows\n",
      "\n",
      "2024-04-18 00:25:07.658298: 142: SELECT T2.emp_fname ,  T4.prof_office ,  T3.crs_description ,  T5.dept_name FROM CLASS AS T1 JOIN employee AS T2 ON T1.prof_num  =  T2.emp_num JOIN course AS T3 ON T1.crs_code  =  T3.crs_code JOIN professor AS T4 ON T2.emp_num  =  T4.emp_num JOIN department AS T5 ON T4.dept_code  =  T5.dept_code\n"
     ]
    },
    {
     "name": "stderr",
     "output_type": "stream",
     "text": [
      "                                                                                \r"
     ]
    },
    {
     "name": "stdout",
     "output_type": "stream",
     "text": [
      "+---------+-----------+---------------+---------+\n",
      "|emp_fname|prof_office|crs_description|dept_name|\n",
      "+---------+-----------+---------------+---------+\n",
      "|   veniam|         ex|        officia|       in|\n",
      "|   veniam|         ex|        officia|    ipsum|\n",
      "|   veniam|         ex|        officia|      sit|\n",
      "|   veniam|         ex|        officia|     quis|\n",
      "|   veniam|         ex|        officia|     sint|\n",
      "|   veniam|         ex|        officia|      non|\n",
      "|   veniam|         ex|        officia|      qui|\n",
      "|   veniam|         ex|        officia|      non|\n",
      "|   veniam|         ex|        officia|     esse|\n",
      "|   veniam|         ex|        officia|     amet|\n",
      "|   veniam|         ex|        officia|       id|\n",
      "|   veniam|         ex|        officia|       ea|\n",
      "|   veniam|         ex|        officia|       ex|\n",
      "|   veniam|         ex|        officia|     sunt|\n",
      "|   veniam|         ex|        officia|     aute|\n",
      "|   veniam|         ex|        officia|       ex|\n",
      "|   veniam|         ex|        officia|       eu|\n",
      "|   veniam|         ex|        officia|       in|\n",
      "|   veniam|         ex|        officia|    ipsum|\n",
      "|   veniam|         ex|        officia|      sit|\n",
      "+---------+-----------+---------------+---------+\n",
      "only showing top 20 rows\n",
      "\n",
      "2024-04-18 00:25:27.990510: 143: SELECT T2.emp_fname ,  T4.prof_office ,  T3.crs_description ,  T5.dept_name FROM CLASS AS T1 JOIN employee AS T2 ON T1.prof_num  =  T2.emp_num JOIN course AS T3 ON T1.crs_code  =  T3.crs_code JOIN professor AS T4 ON T2.emp_num  =  T4.emp_num JOIN department AS T5 ON T4.dept_code  =  T5.dept_code\n"
     ]
    },
    {
     "name": "stderr",
     "output_type": "stream",
     "text": [
      "                                                                                \r"
     ]
    },
    {
     "name": "stdout",
     "output_type": "stream",
     "text": [
      "+---------+-----------+---------------+---------+\n",
      "|emp_fname|prof_office|crs_description|dept_name|\n",
      "+---------+-----------+---------------+---------+\n",
      "|   veniam|         ex|        officia|       in|\n",
      "|   veniam|         ex|        officia|    ipsum|\n",
      "|   veniam|         ex|        officia|      sit|\n",
      "|   veniam|         ex|        officia|     quis|\n",
      "|   veniam|         ex|        officia|     sint|\n",
      "|   veniam|         ex|        officia|      non|\n",
      "|   veniam|         ex|        officia|      qui|\n",
      "|   veniam|         ex|        officia|      non|\n",
      "|   veniam|         ex|        officia|     esse|\n",
      "|   veniam|         ex|        officia|     amet|\n",
      "|   veniam|         ex|        officia|       id|\n",
      "|   veniam|         ex|        officia|       ea|\n",
      "|   veniam|         ex|        officia|       ex|\n",
      "|   veniam|         ex|        officia|     sunt|\n",
      "|   veniam|         ex|        officia|     aute|\n",
      "|   veniam|         ex|        officia|       ex|\n",
      "|   veniam|         ex|        officia|       eu|\n",
      "|   veniam|         ex|        officia|       in|\n",
      "|   veniam|         ex|        officia|    ipsum|\n",
      "|   veniam|         ex|        officia|      sit|\n",
      "+---------+-----------+---------------+---------+\n",
      "only showing top 20 rows\n",
      "\n",
      "2024-04-18 00:25:48.645062: 144: SELECT T1.stu_fname ,  T1.stu_lname ,  T4.crs_description FROM student AS T1 JOIN enroll AS T2 ON T1.stu_num  =  T2.stu_num JOIN CLASS AS T3 ON T2.class_code  =  T3.class_code JOIN course AS T4 ON T3.crs_code  =  T4.crs_code\n"
     ]
    },
    {
     "name": "stderr",
     "output_type": "stream",
     "text": [
      "                                                                                \r"
     ]
    },
    {
     "name": "stdout",
     "output_type": "stream",
     "text": [
      "+---------+---------+---------------+\n",
      "|stu_fname|stu_lname|crs_description|\n",
      "+---------+---------+---------------+\n",
      "|  aliquip|  commodo|     adipiscing|\n",
      "|  aliquip|  commodo|          minim|\n",
      "|  aliquip|  commodo|             ut|\n",
      "|  aliquip|  commodo|           elit|\n",
      "|  aliquip|  commodo|             ut|\n",
      "|  aliquip|  commodo|         labore|\n",
      "|  aliquip|  commodo|        officia|\n",
      "|  aliquip|  commodo|           elit|\n",
      "|  aliquip|  commodo|       deserunt|\n",
      "|  aliquip|  commodo|             do|\n",
      "|  aliquip|  commodo|         cillum|\n",
      "|  aliquip|  commodo|          irure|\n",
      "|  aliquip|  commodo|          irure|\n",
      "|  aliquip|  commodo|        laboris|\n",
      "|  aliquip|  commodo|         dolore|\n",
      "|  aliquip|  commodo|     adipiscing|\n",
      "|  aliquip|  commodo|          minim|\n",
      "|  aliquip|  commodo|             ut|\n",
      "|  aliquip|  commodo|           elit|\n",
      "|  aliquip|  commodo|             ut|\n",
      "+---------+---------+---------------+\n",
      "only showing top 20 rows\n",
      "\n",
      "2024-04-18 00:25:51.429976: 145: SELECT T1.stu_fname ,  T1.stu_lname ,  T4.crs_description FROM student AS T1 JOIN enroll AS T2 ON T1.stu_num  =  T2.stu_num JOIN CLASS AS T3 ON T2.class_code  =  T3.class_code JOIN course AS T4 ON T3.crs_code  =  T4.crs_code\n",
      "+---------+---------+---------------+\n",
      "|stu_fname|stu_lname|crs_description|\n",
      "+---------+---------+---------------+\n",
      "|  aliquip|  commodo|     adipiscing|\n",
      "|  aliquip|  commodo|          minim|\n",
      "|  aliquip|  commodo|             ut|\n",
      "|  aliquip|  commodo|           elit|\n",
      "|  aliquip|  commodo|             ut|\n",
      "|  aliquip|  commodo|         labore|\n",
      "|  aliquip|  commodo|        officia|\n",
      "|  aliquip|  commodo|           elit|\n",
      "|  aliquip|  commodo|       deserunt|\n",
      "|  aliquip|  commodo|             do|\n",
      "|  aliquip|  commodo|         cillum|\n",
      "|  aliquip|  commodo|          irure|\n",
      "|  aliquip|  commodo|          irure|\n",
      "|  aliquip|  commodo|        laboris|\n",
      "|  aliquip|  commodo|         dolore|\n",
      "|  aliquip|  commodo|     adipiscing|\n",
      "|  aliquip|  commodo|          minim|\n",
      "|  aliquip|  commodo|             ut|\n",
      "|  aliquip|  commodo|           elit|\n",
      "|  aliquip|  commodo|             ut|\n",
      "+---------+---------+---------------+\n",
      "only showing top 20 rows\n",
      "\n",
      "2024-04-18 00:25:51.633635: 148: SELECT T2.emp_fname ,  T1.class_room FROM CLASS AS T1 JOIN employee AS T2 ON T1.prof_num  =  T2.emp_num JOIN professor AS T3 ON T2.emp_num  =  T3.emp_num JOIN department AS T4 ON T4.dept_code  =  T3.dept_code WHERE T4.dept_name  =  'Accounting'\n",
      "+---------+------------+\n",
      "|emp_fname|  class_room|\n",
      "+---------+------------+\n",
      "|   dolore|      KLR200|\n",
      "|   dolore|      KLR200|\n",
      "|   dolore|      KLR211|\n",
      "|   dolore|     laborum|\n",
      "|   dolore|       dolor|\n",
      "|   dolore|          ea|\n",
      "|   dolore|       minim|\n",
      "|   dolore|     laborum|\n",
      "|   dolore|       magna|\n",
      "|   dolore|exercitation|\n",
      "|   dolore|      fugiat|\n",
      "|   dolore|       dolor|\n",
      "|   dolore|         est|\n",
      "|   dolore|        amet|\n",
      "|   dolore|          ut|\n",
      "|   dolore|    deserunt|\n",
      "|   dolore|       irure|\n",
      "|   dolore|      tempor|\n",
      "|   dolore|     aliquip|\n",
      "|   dolore|          in|\n",
      "+---------+------------+\n",
      "only showing top 20 rows\n",
      "\n",
      "2024-04-18 00:25:51.851145: 149: SELECT T2.emp_fname ,  T1.class_room FROM CLASS AS T1 JOIN employee AS T2 ON T1.prof_num  =  T2.emp_num JOIN professor AS T3 ON T2.emp_num  =  T3.emp_num JOIN department AS T4 ON T4.dept_code  =  T3.dept_code WHERE T4.dept_name  =  'Accounting'\n",
      "+---------+------------+\n",
      "|emp_fname|  class_room|\n",
      "+---------+------------+\n",
      "|   dolore|      KLR200|\n",
      "|   dolore|      KLR200|\n",
      "|   dolore|      KLR211|\n",
      "|   dolore|     laborum|\n",
      "|   dolore|       dolor|\n",
      "|   dolore|          ea|\n",
      "|   dolore|       minim|\n",
      "|   dolore|     laborum|\n",
      "|   dolore|       magna|\n",
      "|   dolore|exercitation|\n",
      "|   dolore|      fugiat|\n",
      "|   dolore|       dolor|\n",
      "|   dolore|         est|\n",
      "|   dolore|        amet|\n",
      "|   dolore|          ut|\n",
      "|   dolore|    deserunt|\n",
      "|   dolore|       irure|\n",
      "|   dolore|      tempor|\n",
      "|   dolore|     aliquip|\n",
      "|   dolore|          in|\n",
      "+---------+------------+\n",
      "only showing top 20 rows\n",
      "\n",
      "2024-04-18 00:25:52.059273: 150: SELECT DISTINCT T2.emp_fname ,  T3.prof_high_degree FROM CLASS AS T1 JOIN employee AS T2 ON T1.prof_num  =  T2.emp_num JOIN professor AS T3 ON T2.emp_num  =  T3.emp_num JOIN department AS T4 ON T4.dept_code  =  T3.dept_code WHERE T4.dept_name  =  'Computer Info. Systems'\n"
     ]
    },
    {
     "name": "stderr",
     "output_type": "stream",
     "text": [
      "                                                                                \r"
     ]
    },
    {
     "name": "stdout",
     "output_type": "stream",
     "text": [
      "+-------------+----------------+\n",
      "|    emp_fname|prof_high_degree|\n",
      "+-------------+----------------+\n",
      "|    consequat|           Ph.D.|\n",
      "|     proident|           Ph.D.|\n",
      "|   adipiscing|           Ph.D.|\n",
      "|           ut|           Ph.D.|\n",
      "|      nostrud|           Ph.D.|\n",
      "|reprehenderit|           Ph.D.|\n",
      "|         quis|           Ph.D.|\n",
      "|           in|           Ph.D.|\n",
      "|           et|           Ph.D.|\n",
      "|      eiusmod|           Ph.D.|\n",
      "|      laborum|           Ph.D.|\n",
      "|       labore|           Ph.D.|\n",
      "|     occaecat|           Ph.D.|\n",
      "|         sunt|           Ph.D.|\n",
      "|         elit|           Ph.D.|\n",
      "|           ea|           Ph.D.|\n",
      "|          sit|           Ph.D.|\n",
      "|        dolor|           Ph.D.|\n",
      "|          sed|           Ph.D.|\n",
      "|   incididunt|           Ph.D.|\n",
      "+-------------+----------------+\n",
      "only showing top 20 rows\n",
      "\n",
      "2024-04-18 00:25:53.062288: 151: SELECT DISTINCT T2.emp_fname ,  T3.prof_high_degree FROM CLASS AS T1 JOIN employee AS T2 ON T1.prof_num  =  T2.emp_num JOIN professor AS T3 ON T2.emp_num  =  T3.emp_num JOIN department AS T4 ON T4.dept_code  =  T3.dept_code WHERE T4.dept_name  =  'Computer Info. Systems'\n",
      "+-------------+----------------+\n",
      "|    emp_fname|prof_high_degree|\n",
      "+-------------+----------------+\n",
      "|    consequat|           Ph.D.|\n",
      "|     proident|           Ph.D.|\n",
      "|   adipiscing|           Ph.D.|\n",
      "|           ut|           Ph.D.|\n",
      "|      nostrud|           Ph.D.|\n",
      "|reprehenderit|           Ph.D.|\n",
      "|         quis|           Ph.D.|\n",
      "|           in|           Ph.D.|\n",
      "|           et|           Ph.D.|\n",
      "|      eiusmod|           Ph.D.|\n",
      "|      laborum|           Ph.D.|\n",
      "|       labore|           Ph.D.|\n",
      "|     occaecat|           Ph.D.|\n",
      "|         sunt|           Ph.D.|\n",
      "|         elit|           Ph.D.|\n",
      "|           ea|           Ph.D.|\n",
      "|          sit|           Ph.D.|\n",
      "|        dolor|           Ph.D.|\n",
      "|          sed|           Ph.D.|\n",
      "|   incididunt|           Ph.D.|\n",
      "+-------------+----------------+\n",
      "only showing top 20 rows\n",
      "\n",
      "CPU times: user 1.6 s, sys: 144 ms, total: 1.74 s\n",
      "Wall time: 3min 27s\n"
     ]
    }
   ],
   "source": [
    "%%time\n",
    "import os\n",
    "import pandas as pd\n",
    "import sqlite3\n",
    "from datasets import load_dataset\n",
    "from datetime import datetime\n",
    "from pyspark.sql import SparkSession\n",
    "\n",
    "database = '/home/leey/devpub/spider/spider/database/college_1/college_1.sqlite'\n",
    "\n",
    "con = sqlite3.connect(database)\n",
    "cur = con.cursor()\n",
    "res = cur.execute(\"SELECT name FROM sqlite_master WHERE type='table';\")\n",
    "tables = res.fetchall()\n",
    "tables = [x[0] for x in tables]\n",
    "print(tables)\n",
    "con.close()\n",
    "\n",
    "dataset_name = \"xlangai/spider\"\n",
    "dataset = load_dataset(dataset_name, split=\"train\")\n",
    "df = pd.DataFrame(dataset)\n",
    "queries = list(df['query'].loc[df['db_id'] == 'college_1'])\n",
    "\n",
    "for table in tables:\n",
    "    df = spark.read.parquet(f\"/home/leey/devpub/spider/notebooks/syn_{table}.parquet\")\n",
    "    df.createOrReplaceTempView(table)\n",
    "    print(df.count())\n",
    "\n",
    "slow_queries = [34, 35, 78, 79, 120, 121, 122, 127, 140, 141, 142, 143, 144, 145, 148, 149, 150, 151]\n",
    "for i, q in enumerate(queries):\n",
    "    if i not in slow_queries:\n",
    "        continue\n",
    "    try:\n",
    "        print(f\"{datetime.utcnow()}: {i}: {q}\")\n",
    "        res = spark.sql(q)\n",
    "        res.show()\n",
    "    except Exception as e:\n",
    "        print(e)\n"
   ]
  },
  {
   "cell_type": "code",
   "execution_count": null,
   "metadata": {},
   "outputs": [],
   "source": []
  }
 ],
 "metadata": {
  "application/vnd.databricks.v1+notebook": {
   "dashboards": [],
   "language": "python",
   "notebookMetadata": {
    "pythonIndentUnit": 2
   },
   "notebookName": "datagen",
   "widgets": {}
  },
  "kernelspec": {
   "display_name": "Python 3 (ipykernel)",
   "language": "python",
   "name": "python3"
  },
  "language_info": {
   "codemirror_mode": {
    "name": "ipython",
    "version": 3
   },
   "file_extension": ".py",
   "mimetype": "text/x-python",
   "name": "python",
   "nbconvert_exporter": "python",
   "pygments_lexer": "ipython3",
   "version": "3.9.18"
  }
 },
 "nbformat": 4,
 "nbformat_minor": 4
}
